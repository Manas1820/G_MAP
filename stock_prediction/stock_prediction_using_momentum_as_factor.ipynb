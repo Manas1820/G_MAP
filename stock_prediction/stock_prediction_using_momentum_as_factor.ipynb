{
 "cells": [
  {
   "cell_type": "code",
   "execution_count": 1,
   "metadata": {},
   "outputs": [],
   "source": [
    "import numpy as np\n",
    "import pandas as pd\n",
    "import requests\n",
    "import math\n",
    "from scipy import stats\n",
    "import xlsxwriter"
   ]
  },
  {
   "cell_type": "code",
   "execution_count": 2,
   "metadata": {},
   "outputs": [],
   "source": [
    "stocks = pd.read_csv('sp_500_stocks.csv')\n",
    "from secrets import IEX_CLOUD_API_TOKEN"
   ]
  },
  {
   "cell_type": "code",
   "execution_count": 3,
   "metadata": {},
   "outputs": [
    {
     "data": {
      "text/plain": [
       "{'companyName': 'Apple Inc',\n",
       " 'marketcap': 2328684754525,\n",
       " 'week52high': 151.01,\n",
       " 'week52low': 54.15,\n",
       " 'week52highSplitAdjustOnly': 147.01,\n",
       " 'week52lowSplitAdjustOnly': 54.5,\n",
       " 'week52change': 0.6796877723142776,\n",
       " 'sharesOutstanding': 17459345358,\n",
       " 'float': 0,\n",
       " 'avg10Volume': 79490804,\n",
       " 'avg30Volume': 105079866,\n",
       " 'day200MovingAvg': 122.65,\n",
       " 'day50MovingAvg': 140,\n",
       " 'employees': 0,\n",
       " 'ttmEPS': 3.83,\n",
       " 'ttmDividendRate': 0.8578524719702413,\n",
       " 'dividendYield': 0.006281026223478516,\n",
       " 'nextDividendDate': '0',\n",
       " 'exDividendDate': '2021-02-02',\n",
       " 'nextEarningsDate': '2021-01-20',\n",
       " 'peRatio': 36.61935892773439,\n",
       " 'beta': 1.149124215644702,\n",
       " 'maxChangePercent': 53.1452543357899,\n",
       " 'year5ChangePercent': 5.340501011305102,\n",
       " 'year2ChangePercent': 2.269825588161558,\n",
       " 'year1ChangePercent': 0.7074129772452168,\n",
       " 'ytdChangePercent': 0.02010033493416359,\n",
       " 'month6ChangePercent': 0.2510520934999842,\n",
       " 'month3ChangePercent': 0.1359656623748687,\n",
       " 'month1ChangePercent': 0.05053490247867099,\n",
       " 'day30ChangePercent': 0.0519829836882406,\n",
       " 'day5ChangePercent': -0.0152084521898026}"
      ]
     },
     "execution_count": 3,
     "metadata": {},
     "output_type": "execute_result"
    }
   ],
   "source": [
    "symbol = 'AAPL' \n",
    "api_url = f'https://sandbox.iexapis.com/stable/stock/{symbol}/stats?token={IEX_CLOUD_API_TOKEN}'\n",
    "data = requests.get(api_url).json()\n",
    "data"
   ]
  },
  {
   "cell_type": "code",
   "execution_count": null,
   "metadata": {},
   "outputs": [],
   "source": []
  }
 ],
 "metadata": {
  "kernelspec": {
   "display_name": "Python 3",
   "language": "python",
   "name": "python3"
  },
  "language_info": {
   "codemirror_mode": {
    "name": "ipython",
    "version": 3
   },
   "file_extension": ".py",
   "mimetype": "text/x-python",
   "name": "python",
   "nbconvert_exporter": "python",
   "pygments_lexer": "ipython3",
   "version": "3.7.6"
  }
 },
 "nbformat": 4,
 "nbformat_minor": 4
}
