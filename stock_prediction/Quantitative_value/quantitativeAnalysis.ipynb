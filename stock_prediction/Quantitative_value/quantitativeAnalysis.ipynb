{
 "cells": [
  {
   "cell_type": "code",
   "execution_count": 1,
   "metadata": {},
   "outputs": [],
   "source": [
    "import numpy as np\n",
    "import pandas as pd\n",
    "import xlsxwriter\n",
    "import requests\n",
    "from scipy import stats\n",
    "import math"
   ]
  },
  {
   "cell_type": "code",
   "execution_count": 2,
   "metadata": {},
   "outputs": [],
   "source": [
    "stocks = pd.read_csv('sp_500_stocks.csv')\n",
    "from secrets import IEX_CLOUD_API_TOKEN"
   ]
  },
  {
   "cell_type": "code",
   "execution_count": 3,
   "metadata": {},
   "outputs": [
    {
     "data": {
      "text/plain": [
       "{'symbol': 'AAPL',\n",
       " 'companyName': 'Apple Inc',\n",
       " 'primaryExchange': 'NGKAQE) NTSAATDOLSB(/ER M LESGCAL',\n",
       " 'calculationPrice': 'close',\n",
       " 'open': 137.26,\n",
       " 'openTime': 1649124861022,\n",
       " 'openSource': 'afciilfo',\n",
       " 'close': 136.04,\n",
       " 'closeTime': 1618313721911,\n",
       " 'closeSource': 'icflfioa',\n",
       " 'high': 137.42,\n",
       " 'highTime': 1663911368305,\n",
       " 'highSource': ' eIXLasadtETr ',\n",
       " 'low': 139.925,\n",
       " 'lowTime': 1637186150512,\n",
       " 'lowSource': 'nyir1eepd5lme   daieutc',\n",
       " 'latestPrice': 137.35,\n",
       " 'latestSource': 'Close',\n",
       " 'latestTime': 'February 12, 2021',\n",
       " 'latestUpdate': 1681106037186,\n",
       " 'latestVolume': 62403513,\n",
       " 'iexRealtimePrice': 140.24,\n",
       " 'iexRealtimeSize': 1,\n",
       " 'iexLastUpdated': 1670945341697,\n",
       " 'delayedPrice': 142.09,\n",
       " 'delayedPriceTime': 1669874434832,\n",
       " 'oddLotDelayedPrice': 142.2,\n",
       " 'oddLotDelayedPriceTime': 1643920567844,\n",
       " 'extendedPrice': 135.67,\n",
       " 'extendedChange': 0.06,\n",
       " 'extendedChangePercent': 0.00045,\n",
       " 'extendedPriceTime': 1680854824144,\n",
       " 'previousClose': 135.19,\n",
       " 'previousVolume': 65503723,\n",
       " 'change': 0.24,\n",
       " 'changePercent': 0.00184,\n",
       " 'volume': 62918799,\n",
       " 'iexMarketPercent': 0.014932483795187471,\n",
       " 'iexVolume': 906834,\n",
       " 'avgTotalVolume': 102203419,\n",
       " 'iexBidPrice': 0,\n",
       " 'iexBidSize': 0,\n",
       " 'iexAskPrice': 0,\n",
       " 'iexAskSize': 0,\n",
       " 'iexOpen': 136.64,\n",
       " 'iexOpenTime': 1679290790470,\n",
       " 'iexClose': 138.37,\n",
       " 'iexCloseTime': 1646348637181,\n",
       " 'marketCap': 2300633416191,\n",
       " 'peRatio': 37.51,\n",
       " 'week52High': 145.38,\n",
       " 'week52Low': 53.71,\n",
       " 'ytdChange': 0.02352992841254223,\n",
       " 'lastTradeTime': 1685654543459,\n",
       " 'isUSMarketOpen': False}"
      ]
     },
     "execution_count": 3,
     "metadata": {},
     "output_type": "execute_result"
    }
   ],
   "source": [
    "symbol = 'AAPL'\n",
    "api_url = f'https://sandbox.iexapis.com/stable/stock/{symbol}/quote?token={IEX_CLOUD_API_TOKEN}'\n",
    "data = requests.get(api_url).json()\n",
    "data"
   ]
  },
  {
   "cell_type": "code",
   "execution_count": null,
   "metadata": {},
   "outputs": [],
   "source": []
  }
 ],
 "metadata": {
  "kernelspec": {
   "display_name": "Python 3",
   "language": "python",
   "name": "python3"
  },
  "language_info": {
   "codemirror_mode": {
    "name": "ipython",
    "version": 3
   },
   "file_extension": ".py",
   "mimetype": "text/x-python",
   "name": "python",
   "nbconvert_exporter": "python",
   "pygments_lexer": "ipython3",
   "version": "3.7.6"
  }
 },
 "nbformat": 4,
 "nbformat_minor": 4
}
