{
 "cells": [
  {
   "cell_type": "code",
   "execution_count": 1,
   "metadata": {},
   "outputs": [],
   "source": [
    "import numpy as np\n",
    "import pandas as pd\n",
    "import xlsxwriter\n",
    "import requests\n",
    "from scipy import stats\n",
    "import math"
   ]
  },
  {
   "cell_type": "code",
   "execution_count": 2,
   "metadata": {},
   "outputs": [],
   "source": [
    "stocks = pd.read_csv('sp_500_stocks.csv')\n",
    "from secrets import IEX_CLOUD_API_TOKEN"
   ]
  },
  {
   "cell_type": "code",
   "execution_count": 6,
   "metadata": {},
   "outputs": [
    {
     "name": "stdout",
     "output_type": "stream",
     "text": [
      "{'symbol': 'AAPL', 'companyName': 'Apple Inc', 'primaryExchange': 'SLDE /GEEAQCSABLKNTTOGAA)RLS ( NM', 'calculationPrice': 'close', 'open': 137.81, 'openTime': 1651563260532, 'openSource': 'fliifaco', 'close': 140.47, 'closeTime': 1620347438193, 'closeSource': 'oiiclffa', 'high': 139.68, 'highTime': 1619678180873, 'highSource': 'TILtX aadeE rs', 'low': 134.95, 'lowTime': 1687808407880, 'lowSource': 'e e5ltncddra iypie1 mue', 'latestPrice': 141.41, 'latestSource': 'Close', 'latestTime': 'February 12, 2021', 'latestUpdate': 1675694401715, 'latestVolume': 61503629, 'iexRealtimePrice': 137.9, 'iexRealtimeSize': 1, 'iexLastUpdated': 1619532858698, 'delayedPrice': 139.26, 'delayedPriceTime': 1645766868073, 'oddLotDelayedPrice': 141.7, 'oddLotDelayedPriceTime': 1632759657319, 'extendedPrice': 140.34, 'extendedChange': 0.06, 'extendedChangePercent': 0.00045, 'extendedPriceTime': 1628272322087, 'previousClose': 137.83, 'previousVolume': 65000772, 'change': 0.25, 'changePercent': 0.00187, 'volume': 60225449, 'iexMarketPercent': 0.014699805624900067, 'iexVolume': 905915, 'avgTotalVolume': 106827444, 'iexBidPrice': 0, 'iexBidSize': 0, 'iexAskPrice': 0, 'iexAskSize': 0, 'iexOpen': 141.74, 'iexOpenTime': 1656857413730, 'iexClose': 142.05, 'iexCloseTime': 1689799905805, 'marketCap': 2276607983358, 'peRatio': 38.06, 'week52High': 146.53, 'week52Low': 54.28, 'ytdChange': 0.02465853992719326, 'lastTradeTime': 1681791779068, 'isUSMarketOpen': False}\n"
     ]
    }
   ],
   "source": [
    "symbol = 'AAPL'\n",
    "api_url = f'https://sandbox.iexapis.com/stable/stock/{symbol}/quote?token={IEX_CLOUD_API_TOKEN}'\n",
    "data = requests.get(api_url).json()\n",
    "print(data)"
   ]
  },
  {
   "cell_type": "code",
   "execution_count": 7,
   "metadata": {},
   "outputs": [
    {
     "data": {
      "text/plain": [
       "38.06"
      ]
     },
     "execution_count": 7,
     "metadata": {},
     "output_type": "execute_result"
    }
   ],
   "source": [
    "price = data['latestPrice']\n",
    "pe_ratio = data['peRatio']\n",
    "pe_ratio"
   ]
  },
  {
   "cell_type": "code",
   "execution_count": null,
   "metadata": {},
   "outputs": [],
   "source": []
  }
 ],
 "metadata": {
  "kernelspec": {
   "display_name": "Python 3",
   "language": "python",
   "name": "python3"
  },
  "language_info": {
   "codemirror_mode": {
    "name": "ipython",
    "version": 3
   },
   "file_extension": ".py",
   "mimetype": "text/x-python",
   "name": "python",
   "nbconvert_exporter": "python",
   "pygments_lexer": "ipython3",
   "version": "3.7.6"
  }
 },
 "nbformat": 4,
 "nbformat_minor": 4
}
