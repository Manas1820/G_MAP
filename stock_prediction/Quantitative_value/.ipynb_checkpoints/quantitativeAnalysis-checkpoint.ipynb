{
 "cells": [
  {
   "cell_type": "code",
   "execution_count": 1,
   "metadata": {},
   "outputs": [],
   "source": [
    "import numpy as np\n",
    "import pandas as pd\n",
    "import xlsxwriter\n",
    "import requests\n",
    "from scipy import stats\n",
    "import math"
   ]
  },
  {
   "cell_type": "code",
   "execution_count": 2,
   "metadata": {},
   "outputs": [],
   "source": [
    "stocks = pd.read_csv('sp_500_stocks.csv')\n",
    "from secrets import IEX_CLOUD_API_TOKEN"
   ]
  },
  {
   "cell_type": "code",
   "execution_count": 6,
   "metadata": {},
   "outputs": [
    {
     "name": "stdout",
     "output_type": "stream",
     "text": [
      "{'symbol': 'AAPL', 'companyName': 'Apple Inc', 'primaryExchange': 'SLDE /GEEAQCSABLKNTTOGAA)RLS ( NM', 'calculationPrice': 'close', 'open': 137.81, 'openTime': 1651563260532, 'openSource': 'fliifaco', 'close': 140.47, 'closeTime': 1620347438193, 'closeSource': 'oiiclffa', 'high': 139.68, 'highTime': 1619678180873, 'highSource': 'TILtX aadeE rs', 'low': 134.95, 'lowTime': 1687808407880, 'lowSource': 'e e5ltncddra iypie1 mue', 'latestPrice': 141.41, 'latestSource': 'Close', 'latestTime': 'February 12, 2021', 'latestUpdate': 1675694401715, 'latestVolume': 61503629, 'iexRealtimePrice': 137.9, 'iexRealtimeSize': 1, 'iexLastUpdated': 1619532858698, 'delayedPrice': 139.26, 'delayedPriceTime': 1645766868073, 'oddLotDelayedPrice': 141.7, 'oddLotDelayedPriceTime': 1632759657319, 'extendedPrice': 140.34, 'extendedChange': 0.06, 'extendedChangePercent': 0.00045, 'extendedPriceTime': 1628272322087, 'previousClose': 137.83, 'previousVolume': 65000772, 'change': 0.25, 'changePercent': 0.00187, 'volume': 60225449, 'iexMarketPercent': 0.014699805624900067, 'iexVolume': 905915, 'avgTotalVolume': 106827444, 'iexBidPrice': 0, 'iexBidSize': 0, 'iexAskPrice': 0, 'iexAskSize': 0, 'iexOpen': 141.74, 'iexOpenTime': 1656857413730, 'iexClose': 142.05, 'iexCloseTime': 1689799905805, 'marketCap': 2276607983358, 'peRatio': 38.06, 'week52High': 146.53, 'week52Low': 54.28, 'ytdChange': 0.02465853992719326, 'lastTradeTime': 1681791779068, 'isUSMarketOpen': False}\n"
     ]
    }
   ],
   "source": [
    "symbol = 'AAPL'\n",
    "api_url = f'https://sandbox.iexapis.com/stable/stock/{symbol}/quote?token={IEX_CLOUD_API_TOKEN}'\n",
    "data = requests.get(api_url).json()\n",
    "print(data)"
   ]
  },
  {
   "cell_type": "code",
   "execution_count": 7,
   "metadata": {},
   "outputs": [
    {
     "data": {
      "text/plain": [
       "38.06"
      ]
     },
     "execution_count": 7,
     "metadata": {},
     "output_type": "execute_result"
    }
   ],
   "source": [
    "price = data['latestPrice']\n",
    "pe_ratio = data['peRatio']\n",
    "pe_ratio"
   ]
  },
  {
   "cell_type": "code",
   "execution_count": 8,
   "metadata": {},
   "outputs": [],
   "source": [
    "def chunks(lst, n):\n",
    "    \"\"\"Yield successive n-sized chunks from lst.\"\"\"\n",
    "    for i in range(0, len(lst), n):\n",
    "        yield lst[i:i + n]   \n",
    "        \n",
    "symbol_groups = list(chunks(stocks['Ticker'], 100))\n",
    "symbol_strings = []\n",
    "for i in range(0, len(symbol_groups)):\n",
    "    symbol_strings.append(','.join(symbol_groups[i]))\n",
    "#     print(symbol_strings[i])\n",
    "\n",
    "my_columns = ['Ticker', 'Price', 'Price-to-Earnings Ratio', 'Number of Shares to Buy']"
   ]
  },
  {
   "cell_type": "code",
   "execution_count": 9,
   "metadata": {},
   "outputs": [
    {
     "data": {
      "text/html": [
       "<div>\n",
       "<style scoped>\n",
       "    .dataframe tbody tr th:only-of-type {\n",
       "        vertical-align: middle;\n",
       "    }\n",
       "\n",
       "    .dataframe tbody tr th {\n",
       "        vertical-align: top;\n",
       "    }\n",
       "\n",
       "    .dataframe thead th {\n",
       "        text-align: right;\n",
       "    }\n",
       "</style>\n",
       "<table border=\"1\" class=\"dataframe\">\n",
       "  <thead>\n",
       "    <tr style=\"text-align: right;\">\n",
       "      <th></th>\n",
       "      <th>Ticker</th>\n",
       "      <th>Price</th>\n",
       "      <th>Price-to-Earnings Ratio</th>\n",
       "      <th>Number of Shares to Buy</th>\n",
       "    </tr>\n",
       "  </thead>\n",
       "  <tbody>\n",
       "    <tr>\n",
       "      <th>0</th>\n",
       "      <td>A</td>\n",
       "      <td>129.44</td>\n",
       "      <td>58.06</td>\n",
       "      <td>N/A</td>\n",
       "    </tr>\n",
       "    <tr>\n",
       "      <th>1</th>\n",
       "      <td>AAL</td>\n",
       "      <td>17.57</td>\n",
       "      <td>-1.27</td>\n",
       "      <td>N/A</td>\n",
       "    </tr>\n",
       "    <tr>\n",
       "      <th>2</th>\n",
       "      <td>AAP</td>\n",
       "      <td>155.62</td>\n",
       "      <td>23.32</td>\n",
       "      <td>N/A</td>\n",
       "    </tr>\n",
       "    <tr>\n",
       "      <th>3</th>\n",
       "      <td>AAPL</td>\n",
       "      <td>138.02</td>\n",
       "      <td>37.69</td>\n",
       "      <td>N/A</td>\n",
       "    </tr>\n",
       "    <tr>\n",
       "      <th>4</th>\n",
       "      <td>ABBV</td>\n",
       "      <td>107.96</td>\n",
       "      <td>23.8</td>\n",
       "      <td>N/A</td>\n",
       "    </tr>\n",
       "    <tr>\n",
       "      <th>...</th>\n",
       "      <td>...</td>\n",
       "      <td>...</td>\n",
       "      <td>...</td>\n",
       "      <td>...</td>\n",
       "    </tr>\n",
       "    <tr>\n",
       "      <th>500</th>\n",
       "      <td>YUM</td>\n",
       "      <td>108.28</td>\n",
       "      <td>31.51</td>\n",
       "      <td>N/A</td>\n",
       "    </tr>\n",
       "    <tr>\n",
       "      <th>501</th>\n",
       "      <td>ZBH</td>\n",
       "      <td>165.76</td>\n",
       "      <td>-227.19</td>\n",
       "      <td>N/A</td>\n",
       "    </tr>\n",
       "    <tr>\n",
       "      <th>502</th>\n",
       "      <td>ZBRA</td>\n",
       "      <td>489.15</td>\n",
       "      <td>54.64</td>\n",
       "      <td>N/A</td>\n",
       "    </tr>\n",
       "    <tr>\n",
       "      <th>503</th>\n",
       "      <td>ZION</td>\n",
       "      <td>52.01</td>\n",
       "      <td>21.8</td>\n",
       "      <td>N/A</td>\n",
       "    </tr>\n",
       "    <tr>\n",
       "      <th>504</th>\n",
       "      <td>ZTS</td>\n",
       "      <td>173.74</td>\n",
       "      <td>49.37</td>\n",
       "      <td>N/A</td>\n",
       "    </tr>\n",
       "  </tbody>\n",
       "</table>\n",
       "<p>505 rows × 4 columns</p>\n",
       "</div>"
      ],
      "text/plain": [
       "    Ticker   Price Price-to-Earnings Ratio Number of Shares to Buy\n",
       "0        A  129.44                   58.06                     N/A\n",
       "1      AAL   17.57                   -1.27                     N/A\n",
       "2      AAP  155.62                   23.32                     N/A\n",
       "3     AAPL  138.02                   37.69                     N/A\n",
       "4     ABBV  107.96                    23.8                     N/A\n",
       "..     ...     ...                     ...                     ...\n",
       "500    YUM  108.28                   31.51                     N/A\n",
       "501    ZBH  165.76                 -227.19                     N/A\n",
       "502   ZBRA  489.15                   54.64                     N/A\n",
       "503   ZION   52.01                    21.8                     N/A\n",
       "504    ZTS  173.74                   49.37                     N/A\n",
       "\n",
       "[505 rows x 4 columns]"
      ]
     },
     "execution_count": 9,
     "metadata": {},
     "output_type": "execute_result"
    }
   ],
   "source": [
    "final_dataframe = pd.DataFrame(columns = my_columns)\n",
    "\n",
    "for symbol_string in symbol_strings:\n",
    "#     print(symbol_strings)\n",
    "    batch_api_call_url = f'https://sandbox.iexapis.com/stable/stock/market/batch/?types=quote&symbols={symbol_string}&token={IEX_CLOUD_API_TOKEN}'\n",
    "    data = requests.get(batch_api_call_url).json()\n",
    "#    print(data.status_code)\n",
    "    for symbol in symbol_string.split(\",\"):\n",
    "        final_dataframe = final_dataframe.append(\n",
    "        pd.Series(\n",
    "            [\n",
    "                symbol,\n",
    "                data[symbol]['quote']['latestPrice'],\n",
    "                data[symbol]['quote']['peRatio'],\n",
    "                'N/A'\n",
    "            ],\n",
    "            index = my_columns\n",
    "        ),\n",
    "        ignore_index = True\n",
    "        )\n",
    "        \n",
    "#        print(symbol)\n",
    "final_dataframe"
   ]
  },
  {
   "cell_type": "code",
   "execution_count": null,
   "metadata": {},
   "outputs": [],
   "source": []
  }
 ],
 "metadata": {
  "kernelspec": {
   "display_name": "Python 3",
   "language": "python",
   "name": "python3"
  },
  "language_info": {
   "codemirror_mode": {
    "name": "ipython",
    "version": 3
   },
   "file_extension": ".py",
   "mimetype": "text/x-python",
   "name": "python",
   "nbconvert_exporter": "python",
   "pygments_lexer": "ipython3",
   "version": "3.7.6"
  }
 },
 "nbformat": 4,
 "nbformat_minor": 4
}
